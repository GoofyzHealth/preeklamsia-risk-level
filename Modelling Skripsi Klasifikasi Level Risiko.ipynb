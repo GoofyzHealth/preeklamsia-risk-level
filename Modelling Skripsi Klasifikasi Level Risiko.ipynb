{
 "cells": [
  {
   "cell_type": "markdown",
   "id": "55ff401c",
   "metadata": {},
   "source": [
    "## Import Library"
   ]
  },
  {
   "cell_type": "code",
   "execution_count": 1,
   "id": "a36ad5be",
   "metadata": {},
   "outputs": [],
   "source": [
    "# Import library\n",
    "import pandas as pd   # data processing, CSV file I/O (e.g. pd.read_csv)\n",
    "import numpy as np    # linear algebra\n",
    "import matplotlib.pyplot as plt # membuat grafik\n",
    "%matplotlib inline\n",
    "import seaborn as sns # membuat grafik interaktif\n",
    "\n",
    "# Library untuk mengabaikan warnings\n",
    "import warnings\n",
    "warnings.filterwarnings('ignore')"
   ]
  },
  {
   "cell_type": "markdown",
   "id": "e6b9ec1d",
   "metadata": {},
   "source": [
    "## Import Dataset"
   ]
  },
  {
   "cell_type": "code",
   "execution_count": 2,
   "id": "7afee374",
   "metadata": {},
   "outputs": [],
   "source": [
    "df = pd.read_csv('F:/Bismillah Skripsi/Dataset/dataset_ibu_hamil.csv')"
   ]
  },
  {
   "cell_type": "markdown",
   "id": "53c8d3f3",
   "metadata": {},
   "source": [
    "## Data Understanding"
   ]
  },
  {
   "cell_type": "raw",
   "id": "0dafbb0a",
   "metadata": {},
   "source": [
    "Berikut penjelasan mengenai fitur pada dataset\n",
    "\n",
    "# tinggi_badan\n",
    "  satuan ukur : sentimeter\n",
    "# berat_badan\n",
    "  satuan ukur : kilogram\n",
    "# tekanan_darah_sistolik (Systolic Blood Pressure)\n",
    "  satuan ukur : mmHg\n",
    "# tekanan_darah_diastolik (Diastolic Blood Pressure)\n",
    "  satuan ukur : mmHg\n",
    "# usia \n",
    "  satuan ukur : tahun\n",
    "# paritas (jumlah kelahiran)\n",
    "  satuan ukur : jumlah kelahiran hidup\n",
    "# riwayat_hipertensi (riwayat hipertensi ibu)\n",
    "  ada riwayat hipertensi (1)\n",
    "  tidak ada riwayat hipertensi (0)\n",
    "# riwayat_preeklamsia \n",
    "  ada riwayat preeklamsia (1)\n",
    "  tidak ada riwayat preeklamsia (0)\n",
    "# level_risiko\n",
    "  Tinggi\n",
    "  Sedang\n",
    "  Rendah"
   ]
  },
  {
   "cell_type": "markdown",
   "id": "011eb626",
   "metadata": {},
   "source": [
    "## Exploratory Data Analysis"
   ]
  },
  {
   "cell_type": "code",
   "execution_count": 3,
   "id": "7fc6d594",
   "metadata": {},
   "outputs": [
    {
     "name": "stdout",
     "output_type": "stream",
     "text": [
      "<class 'pandas.core.frame.DataFrame'>\n",
      "RangeIndex: 212 entries, 0 to 211\n",
      "Data columns (total 9 columns):\n",
      " #   Column                   Non-Null Count  Dtype  \n",
      "---  ------                   --------------  -----  \n",
      " 0   tinggi_badan             212 non-null    float64\n",
      " 1   berat_badan              212 non-null    float64\n",
      " 2   tekanan_darah_sistolik   212 non-null    int64  \n",
      " 3   tekanan_darah_diastolik  212 non-null    int64  \n",
      " 4   usia                     212 non-null    int64  \n",
      " 5   paritas                  212 non-null    int64  \n",
      " 6   riwayat_hipertensi       212 non-null    int64  \n",
      " 7   riwayat_preeklamsia      212 non-null    int64  \n",
      " 8   level_risiko             212 non-null    object \n",
      "dtypes: float64(2), int64(6), object(1)\n",
      "memory usage: 15.0+ KB\n"
     ]
    }
   ],
   "source": [
    "df.info()"
   ]
  },
  {
   "cell_type": "code",
   "execution_count": 4,
   "id": "794f762b",
   "metadata": {},
   "outputs": [
    {
     "data": {
      "text/plain": [
       "tinggi_badan               0\n",
       "berat_badan                0\n",
       "tekanan_darah_sistolik     0\n",
       "tekanan_darah_diastolik    0\n",
       "usia                       0\n",
       "paritas                    0\n",
       "riwayat_hipertensi         0\n",
       "riwayat_preeklamsia        0\n",
       "level_risiko               0\n",
       "dtype: int64"
      ]
     },
     "execution_count": 4,
     "metadata": {},
     "output_type": "execute_result"
    }
   ],
   "source": [
    "df.isnull().sum()"
   ]
  },
  {
   "cell_type": "code",
   "execution_count": 5,
   "id": "ffb9cb61",
   "metadata": {},
   "outputs": [
    {
     "data": {
      "text/html": [
       "<div>\n",
       "<style scoped>\n",
       "    .dataframe tbody tr th:only-of-type {\n",
       "        vertical-align: middle;\n",
       "    }\n",
       "\n",
       "    .dataframe tbody tr th {\n",
       "        vertical-align: top;\n",
       "    }\n",
       "\n",
       "    .dataframe thead th {\n",
       "        text-align: right;\n",
       "    }\n",
       "</style>\n",
       "<table border=\"1\" class=\"dataframe\">\n",
       "  <thead>\n",
       "    <tr style=\"text-align: right;\">\n",
       "      <th></th>\n",
       "      <th>tinggi_badan</th>\n",
       "      <th>berat_badan</th>\n",
       "      <th>tekanan_darah_sistolik</th>\n",
       "      <th>tekanan_darah_diastolik</th>\n",
       "      <th>usia</th>\n",
       "      <th>paritas</th>\n",
       "      <th>riwayat_hipertensi</th>\n",
       "      <th>riwayat_preeklamsia</th>\n",
       "      <th>level_risiko</th>\n",
       "    </tr>\n",
       "  </thead>\n",
       "  <tbody>\n",
       "    <tr>\n",
       "      <th>0</th>\n",
       "      <td>143.0</td>\n",
       "      <td>39.2</td>\n",
       "      <td>110</td>\n",
       "      <td>80</td>\n",
       "      <td>16</td>\n",
       "      <td>0</td>\n",
       "      <td>0</td>\n",
       "      <td>0</td>\n",
       "      <td>Rendah</td>\n",
       "    </tr>\n",
       "    <tr>\n",
       "      <th>1</th>\n",
       "      <td>153.0</td>\n",
       "      <td>48.0</td>\n",
       "      <td>110</td>\n",
       "      <td>70</td>\n",
       "      <td>23</td>\n",
       "      <td>0</td>\n",
       "      <td>0</td>\n",
       "      <td>0</td>\n",
       "      <td>Rendah</td>\n",
       "    </tr>\n",
       "    <tr>\n",
       "      <th>2</th>\n",
       "      <td>150.0</td>\n",
       "      <td>60.5</td>\n",
       "      <td>120</td>\n",
       "      <td>80</td>\n",
       "      <td>28</td>\n",
       "      <td>0</td>\n",
       "      <td>0</td>\n",
       "      <td>1</td>\n",
       "      <td>Tinggi</td>\n",
       "    </tr>\n",
       "    <tr>\n",
       "      <th>3</th>\n",
       "      <td>153.0</td>\n",
       "      <td>43.0</td>\n",
       "      <td>110</td>\n",
       "      <td>70</td>\n",
       "      <td>22</td>\n",
       "      <td>0</td>\n",
       "      <td>0</td>\n",
       "      <td>0</td>\n",
       "      <td>Rendah</td>\n",
       "    </tr>\n",
       "    <tr>\n",
       "      <th>4</th>\n",
       "      <td>150.0</td>\n",
       "      <td>41.9</td>\n",
       "      <td>100</td>\n",
       "      <td>70</td>\n",
       "      <td>21</td>\n",
       "      <td>0</td>\n",
       "      <td>0</td>\n",
       "      <td>0</td>\n",
       "      <td>Rendah</td>\n",
       "    </tr>\n",
       "  </tbody>\n",
       "</table>\n",
       "</div>"
      ],
      "text/plain": [
       "   tinggi_badan  berat_badan  tekanan_darah_sistolik  tekanan_darah_diastolik  \\\n",
       "0         143.0         39.2                     110                       80   \n",
       "1         153.0         48.0                     110                       70   \n",
       "2         150.0         60.5                     120                       80   \n",
       "3         153.0         43.0                     110                       70   \n",
       "4         150.0         41.9                     100                       70   \n",
       "\n",
       "   usia  paritas  riwayat_hipertensi  riwayat_preeklamsia level_risiko  \n",
       "0    16        0                   0                    0       Rendah  \n",
       "1    23        0                   0                    0       Rendah  \n",
       "2    28        0                   0                    1       Tinggi  \n",
       "3    22        0                   0                    0       Rendah  \n",
       "4    21        0                   0                    0       Rendah  "
      ]
     },
     "execution_count": 5,
     "metadata": {},
     "output_type": "execute_result"
    }
   ],
   "source": [
    "df.head()"
   ]
  },
  {
   "cell_type": "code",
   "execution_count": 6,
   "id": "33d8ed6e",
   "metadata": {},
   "outputs": [
    {
     "data": {
      "text/html": [
       "<div>\n",
       "<style scoped>\n",
       "    .dataframe tbody tr th:only-of-type {\n",
       "        vertical-align: middle;\n",
       "    }\n",
       "\n",
       "    .dataframe tbody tr th {\n",
       "        vertical-align: top;\n",
       "    }\n",
       "\n",
       "    .dataframe thead th {\n",
       "        text-align: right;\n",
       "    }\n",
       "</style>\n",
       "<table border=\"1\" class=\"dataframe\">\n",
       "  <thead>\n",
       "    <tr style=\"text-align: right;\">\n",
       "      <th></th>\n",
       "      <th>tinggi_badan</th>\n",
       "      <th>berat_badan</th>\n",
       "      <th>tekanan_darah_sistolik</th>\n",
       "      <th>tekanan_darah_diastolik</th>\n",
       "      <th>usia</th>\n",
       "      <th>paritas</th>\n",
       "      <th>riwayat_hipertensi</th>\n",
       "      <th>riwayat_preeklamsia</th>\n",
       "      <th>level_risiko</th>\n",
       "    </tr>\n",
       "  </thead>\n",
       "  <tbody>\n",
       "    <tr>\n",
       "      <th>count</th>\n",
       "      <td>212.000000</td>\n",
       "      <td>212.000000</td>\n",
       "      <td>212.000000</td>\n",
       "      <td>212.000000</td>\n",
       "      <td>212.000000</td>\n",
       "      <td>212.000000</td>\n",
       "      <td>212.000000</td>\n",
       "      <td>212.000000</td>\n",
       "      <td>212</td>\n",
       "    </tr>\n",
       "    <tr>\n",
       "      <th>unique</th>\n",
       "      <td>NaN</td>\n",
       "      <td>NaN</td>\n",
       "      <td>NaN</td>\n",
       "      <td>NaN</td>\n",
       "      <td>NaN</td>\n",
       "      <td>NaN</td>\n",
       "      <td>NaN</td>\n",
       "      <td>NaN</td>\n",
       "      <td>3</td>\n",
       "    </tr>\n",
       "    <tr>\n",
       "      <th>top</th>\n",
       "      <td>NaN</td>\n",
       "      <td>NaN</td>\n",
       "      <td>NaN</td>\n",
       "      <td>NaN</td>\n",
       "      <td>NaN</td>\n",
       "      <td>NaN</td>\n",
       "      <td>NaN</td>\n",
       "      <td>NaN</td>\n",
       "      <td>Rendah</td>\n",
       "    </tr>\n",
       "    <tr>\n",
       "      <th>freq</th>\n",
       "      <td>NaN</td>\n",
       "      <td>NaN</td>\n",
       "      <td>NaN</td>\n",
       "      <td>NaN</td>\n",
       "      <td>NaN</td>\n",
       "      <td>NaN</td>\n",
       "      <td>NaN</td>\n",
       "      <td>NaN</td>\n",
       "      <td>167</td>\n",
       "    </tr>\n",
       "    <tr>\n",
       "      <th>mean</th>\n",
       "      <td>153.591509</td>\n",
       "      <td>59.497170</td>\n",
       "      <td>108.410377</td>\n",
       "      <td>72.099057</td>\n",
       "      <td>29.962264</td>\n",
       "      <td>1.122642</td>\n",
       "      <td>0.023585</td>\n",
       "      <td>0.037736</td>\n",
       "      <td>NaN</td>\n",
       "    </tr>\n",
       "    <tr>\n",
       "      <th>std</th>\n",
       "      <td>5.215582</td>\n",
       "      <td>12.686361</td>\n",
       "      <td>10.643579</td>\n",
       "      <td>6.858392</td>\n",
       "      <td>6.395977</td>\n",
       "      <td>1.081537</td>\n",
       "      <td>0.152111</td>\n",
       "      <td>0.191008</td>\n",
       "      <td>NaN</td>\n",
       "    </tr>\n",
       "    <tr>\n",
       "      <th>min</th>\n",
       "      <td>135.000000</td>\n",
       "      <td>34.000000</td>\n",
       "      <td>80.000000</td>\n",
       "      <td>50.000000</td>\n",
       "      <td>0.000000</td>\n",
       "      <td>0.000000</td>\n",
       "      <td>0.000000</td>\n",
       "      <td>0.000000</td>\n",
       "      <td>NaN</td>\n",
       "    </tr>\n",
       "    <tr>\n",
       "      <th>25%</th>\n",
       "      <td>150.000000</td>\n",
       "      <td>50.000000</td>\n",
       "      <td>100.000000</td>\n",
       "      <td>70.000000</td>\n",
       "      <td>26.000000</td>\n",
       "      <td>0.000000</td>\n",
       "      <td>0.000000</td>\n",
       "      <td>0.000000</td>\n",
       "      <td>NaN</td>\n",
       "    </tr>\n",
       "    <tr>\n",
       "      <th>50%</th>\n",
       "      <td>154.000000</td>\n",
       "      <td>58.500000</td>\n",
       "      <td>110.000000</td>\n",
       "      <td>70.000000</td>\n",
       "      <td>30.000000</td>\n",
       "      <td>1.000000</td>\n",
       "      <td>0.000000</td>\n",
       "      <td>0.000000</td>\n",
       "      <td>NaN</td>\n",
       "    </tr>\n",
       "    <tr>\n",
       "      <th>75%</th>\n",
       "      <td>157.000000</td>\n",
       "      <td>68.000000</td>\n",
       "      <td>110.000000</td>\n",
       "      <td>80.000000</td>\n",
       "      <td>34.000000</td>\n",
       "      <td>2.000000</td>\n",
       "      <td>0.000000</td>\n",
       "      <td>0.000000</td>\n",
       "      <td>NaN</td>\n",
       "    </tr>\n",
       "    <tr>\n",
       "      <th>max</th>\n",
       "      <td>167.000000</td>\n",
       "      <td>105.000000</td>\n",
       "      <td>150.000000</td>\n",
       "      <td>90.000000</td>\n",
       "      <td>44.000000</td>\n",
       "      <td>5.000000</td>\n",
       "      <td>1.000000</td>\n",
       "      <td>1.000000</td>\n",
       "      <td>NaN</td>\n",
       "    </tr>\n",
       "  </tbody>\n",
       "</table>\n",
       "</div>"
      ],
      "text/plain": [
       "        tinggi_badan  berat_badan  tekanan_darah_sistolik  \\\n",
       "count     212.000000   212.000000              212.000000   \n",
       "unique           NaN          NaN                     NaN   \n",
       "top              NaN          NaN                     NaN   \n",
       "freq             NaN          NaN                     NaN   \n",
       "mean      153.591509    59.497170              108.410377   \n",
       "std         5.215582    12.686361               10.643579   \n",
       "min       135.000000    34.000000               80.000000   \n",
       "25%       150.000000    50.000000              100.000000   \n",
       "50%       154.000000    58.500000              110.000000   \n",
       "75%       157.000000    68.000000              110.000000   \n",
       "max       167.000000   105.000000              150.000000   \n",
       "\n",
       "        tekanan_darah_diastolik        usia     paritas  riwayat_hipertensi  \\\n",
       "count                212.000000  212.000000  212.000000          212.000000   \n",
       "unique                      NaN         NaN         NaN                 NaN   \n",
       "top                         NaN         NaN         NaN                 NaN   \n",
       "freq                        NaN         NaN         NaN                 NaN   \n",
       "mean                  72.099057   29.962264    1.122642            0.023585   \n",
       "std                    6.858392    6.395977    1.081537            0.152111   \n",
       "min                   50.000000    0.000000    0.000000            0.000000   \n",
       "25%                   70.000000   26.000000    0.000000            0.000000   \n",
       "50%                   70.000000   30.000000    1.000000            0.000000   \n",
       "75%                   80.000000   34.000000    2.000000            0.000000   \n",
       "max                   90.000000   44.000000    5.000000            1.000000   \n",
       "\n",
       "        riwayat_preeklamsia level_risiko  \n",
       "count            212.000000          212  \n",
       "unique                  NaN            3  \n",
       "top                     NaN       Rendah  \n",
       "freq                    NaN          167  \n",
       "mean               0.037736          NaN  \n",
       "std                0.191008          NaN  \n",
       "min                0.000000          NaN  \n",
       "25%                0.000000          NaN  \n",
       "50%                0.000000          NaN  \n",
       "75%                0.000000          NaN  \n",
       "max                1.000000          NaN  "
      ]
     },
     "execution_count": 6,
     "metadata": {},
     "output_type": "execute_result"
    }
   ],
   "source": [
    "df.describe(include='all')"
   ]
  },
  {
   "cell_type": "code",
   "execution_count": 7,
   "id": "fff02da3",
   "metadata": {},
   "outputs": [
    {
     "data": {
      "text/plain": [
       "Rendah    167\n",
       "Sedang     32\n",
       "Tinggi     13\n",
       "Name: level_risiko, dtype: int64"
      ]
     },
     "execution_count": 7,
     "metadata": {},
     "output_type": "execute_result"
    },
    {
     "data": {
      "image/png": "[encoded data removed]",
      "text/plain": [
       "<Figure size 432x288 with 1 Axes>"
      ]
     },
     "metadata": {
      "needs_background": "light"
     },
     "output_type": "display_data"
    }
   ],
   "source": [
    "# Menampilkan grafik kolom 'level_risiko' menggunakan diagram batang\n",
    "sns.countplot(x='level_risiko',data=df)\n",
    "df['level_risiko'].value_counts()"
   ]
  },
  {
   "cell_type": "code",
   "execution_count": 8,
   "id": "f5b75745",
   "metadata": {},
   "outputs": [
    {
     "data": {
      "text/plain": [
       "<AxesSubplot:xlabel='usia', ylabel='paritas'>"
      ]
     },
     "execution_count": 8,
     "metadata": {},
     "output_type": "execute_result"
    },
    {
     "data": {
      "image/png": "[encoded data removed]",
      "text/plain": [
       "<Figure size 432x288 with 1 Axes>"
      ]
     },
     "metadata": {
      "needs_background": "light"
     },
     "output_type": "display_data"
    }
   ],
   "source": [
    "sns.scatterplot(x=df['usia'],y=df['paritas'],hue=df['level_risiko'])"
   ]
  },
  {
   "cell_type": "markdown",
   "id": "017fb0cd",
   "metadata": {},
   "source": [
    "## Preprocessing Data"
   ]
  },
  {
   "cell_type": "code",
   "execution_count": 3,
   "id": "27bc9d67",
   "metadata": {},
   "outputs": [],
   "source": [
    "#Import library untuk membangun model prediksi\n",
    "from sklearn.preprocessing import StandardScaler"
   ]
  },
  {
   "cell_type": "code",
   "execution_count": 4,
   "id": "2056672a",
   "metadata": {},
   "outputs": [
    {
     "data": {
      "text/html": [
       "<div>\n",
       "<style scoped>\n",
       "    .dataframe tbody tr th:only-of-type {\n",
       "        vertical-align: middle;\n",
       "    }\n",
       "\n",
       "    .dataframe tbody tr th {\n",
       "        vertical-align: top;\n",
       "    }\n",
       "\n",
       "    .dataframe thead th {\n",
       "        text-align: right;\n",
       "    }\n",
       "</style>\n",
       "<table border=\"1\" class=\"dataframe\">\n",
       "  <thead>\n",
       "    <tr style=\"text-align: right;\">\n",
       "      <th></th>\n",
       "      <th>tinggi_badan</th>\n",
       "      <th>berat_badan</th>\n",
       "      <th>tekanan_darah_sistolik</th>\n",
       "      <th>tekanan_darah_diastolik</th>\n",
       "      <th>usia</th>\n",
       "      <th>paritas</th>\n",
       "      <th>riwayat_hipertensi</th>\n",
       "      <th>riwayat_preeklamsia</th>\n",
       "      <th>level_risiko</th>\n",
       "    </tr>\n",
       "  </thead>\n",
       "  <tbody>\n",
       "    <tr>\n",
       "      <th>0</th>\n",
       "      <td>143.0</td>\n",
       "      <td>39.2</td>\n",
       "      <td>110</td>\n",
       "      <td>80</td>\n",
       "      <td>16</td>\n",
       "      <td>0</td>\n",
       "      <td>0</td>\n",
       "      <td>0</td>\n",
       "      <td>1</td>\n",
       "    </tr>\n",
       "    <tr>\n",
       "      <th>1</th>\n",
       "      <td>153.0</td>\n",
       "      <td>48.0</td>\n",
       "      <td>110</td>\n",
       "      <td>70</td>\n",
       "      <td>23</td>\n",
       "      <td>0</td>\n",
       "      <td>0</td>\n",
       "      <td>0</td>\n",
       "      <td>1</td>\n",
       "    </tr>\n",
       "    <tr>\n",
       "      <th>2</th>\n",
       "      <td>150.0</td>\n",
       "      <td>60.5</td>\n",
       "      <td>120</td>\n",
       "      <td>80</td>\n",
       "      <td>28</td>\n",
       "      <td>0</td>\n",
       "      <td>0</td>\n",
       "      <td>1</td>\n",
       "      <td>3</td>\n",
       "    </tr>\n",
       "    <tr>\n",
       "      <th>3</th>\n",
       "      <td>153.0</td>\n",
       "      <td>43.0</td>\n",
       "      <td>110</td>\n",
       "      <td>70</td>\n",
       "      <td>22</td>\n",
       "      <td>0</td>\n",
       "      <td>0</td>\n",
       "      <td>0</td>\n",
       "      <td>1</td>\n",
       "    </tr>\n",
       "    <tr>\n",
       "      <th>4</th>\n",
       "      <td>150.0</td>\n",
       "      <td>41.9</td>\n",
       "      <td>100</td>\n",
       "      <td>70</td>\n",
       "      <td>21</td>\n",
       "      <td>0</td>\n",
       "      <td>0</td>\n",
       "      <td>0</td>\n",
       "      <td>1</td>\n",
       "    </tr>\n",
       "  </tbody>\n",
       "</table>\n",
       "</div>"
      ],
      "text/plain": [
       "   tinggi_badan  berat_badan  tekanan_darah_sistolik  tekanan_darah_diastolik  \\\n",
       "0         143.0         39.2                     110                       80   \n",
       "1         153.0         48.0                     110                       70   \n",
       "2         150.0         60.5                     120                       80   \n",
       "3         153.0         43.0                     110                       70   \n",
       "4         150.0         41.9                     100                       70   \n",
       "\n",
       "   usia  paritas  riwayat_hipertensi  riwayat_preeklamsia level_risiko  \n",
       "0    16        0                   0                    0            1  \n",
       "1    23        0                   0                    0            1  \n",
       "2    28        0                   0                    1            3  \n",
       "3    22        0                   0                    0            1  \n",
       "4    21        0                   0                    0            1  "
      ]
     },
     "execution_count": 4,
     "metadata": {},
     "output_type": "execute_result"
    }
   ],
   "source": [
    "#Ubah kategori pada kolom level_risiko menjadi interger\n",
    "df['level_risiko'].replace({\"Tinggi\": \"3\", \"Sedang\": \"2\", \"Rendah\" : \"1\"}, inplace=True)\n",
    "df.head()"
   ]
  },
  {
   "cell_type": "code",
   "execution_count": 5,
   "id": "3d882828",
   "metadata": {},
   "outputs": [],
   "source": [
    "df[\"level_risiko\"] = df[\"level_risiko\"].astype(\"int64\")"
   ]
  },
  {
   "cell_type": "code",
   "execution_count": 6,
   "id": "ce22b1f3",
   "metadata": {},
   "outputs": [
    {
     "name": "stdout",
     "output_type": "stream",
     "text": [
      "<class 'pandas.core.frame.DataFrame'>\n",
      "RangeIndex: 212 entries, 0 to 211\n",
      "Data columns (total 9 columns):\n",
      " #   Column                   Non-Null Count  Dtype  \n",
      "---  ------                   --------------  -----  \n",
      " 0   tinggi_badan             212 non-null    float64\n",
      " 1   berat_badan              212 non-null    float64\n",
      " 2   tekanan_darah_sistolik   212 non-null    int64  \n",
      " 3   tekanan_darah_diastolik  212 non-null    int64  \n",
      " 4   usia                     212 non-null    int64  \n",
      " 5   paritas                  212 non-null    int64  \n",
      " 6   riwayat_hipertensi       212 non-null    int64  \n",
      " 7   riwayat_preeklamsia      212 non-null    int64  \n",
      " 8   level_risiko             212 non-null    int64  \n",
      "dtypes: float64(2), int64(7)\n",
      "memory usage: 15.0 KB\n"
     ]
    }
   ],
   "source": [
    "df.info()"
   ]
  },
  {
   "cell_type": "code",
   "execution_count": 12,
   "id": "ca494722",
   "metadata": {},
   "outputs": [
    {
     "data": {
      "text/plain": [
       "<AxesSubplot:>"
      ]
     },
     "execution_count": 12,
     "metadata": {},
     "output_type": "execute_result"
    },
    {
     "data": {
      "image/png": "[encoded data removed]",
      "text/plain": [
       "<Figure size 864x576 with 2 Axes>"
      ]
     },
     "metadata": {
      "needs_background": "light"
     },
     "output_type": "display_data"
    }
   ],
   "source": [
    "plt.figure(figsize=(12,8)) \n",
    "sns.heatmap(df. corr(), annot=True)"
   ]
  },
  {
   "cell_type": "code",
   "execution_count": 6,
   "id": "8c4cf31d",
   "metadata": {},
   "outputs": [],
   "source": [
    "# Memisahkan variabel independen dan dependen\n",
    "x = df.drop (columns=\"level_risiko\", axis=1)     # Fitur/Atribut\n",
    "y = df['level_risiko']                           # Label"
   ]
  },
  {
   "cell_type": "code",
   "execution_count": 14,
   "id": "25b85681",
   "metadata": {},
   "outputs": [
    {
     "name": "stdout",
     "output_type": "stream",
     "text": [
      "     tinggi_badan  berat_badan  tekanan_darah_sistolik  \\\n",
      "0           143.0         39.2                     110   \n",
      "1           153.0         48.0                     110   \n",
      "2           150.0         60.5                     120   \n",
      "3           153.0         43.0                     110   \n",
      "4           150.0         41.9                     100   \n",
      "..            ...          ...                     ...   \n",
      "207         165.0         60.0                     107   \n",
      "208         155.0         69.0                     110   \n",
      "209         154.0         72.2                     110   \n",
      "210         159.0         59.0                     120   \n",
      "211         155.0         55.0                      90   \n",
      "\n",
      "     tekanan_darah_diastolik  usia  paritas  riwayat_hipertensi  \\\n",
      "0                         80    16        0                   0   \n",
      "1                         70    23        0                   0   \n",
      "2                         80    28        0                   0   \n",
      "3                         70    22        0                   0   \n",
      "4                         70    21        0                   0   \n",
      "..                       ...   ...      ...                 ...   \n",
      "207                       77    33        0                   0   \n",
      "208                       60    28        1                   0   \n",
      "209                       70    29        1                   0   \n",
      "210                       80    24        0                   0   \n",
      "211                       60    40        2                   0   \n",
      "\n",
      "     riwayat_preeklamsia  \n",
      "0                      0  \n",
      "1                      0  \n",
      "2                      1  \n",
      "3                      0  \n",
      "4                      0  \n",
      "..                   ...  \n",
      "207                    0  \n",
      "208                    0  \n",
      "209                    0  \n",
      "210                    0  \n",
      "211                    0  \n",
      "\n",
      "[212 rows x 8 columns]\n"
     ]
    }
   ],
   "source": [
    "print(x)"
   ]
  },
  {
   "cell_type": "code",
   "execution_count": 15,
   "id": "6f220ff4",
   "metadata": {},
   "outputs": [
    {
     "name": "stdout",
     "output_type": "stream",
     "text": [
      "0      1\n",
      "1      1\n",
      "2      3\n",
      "3      1\n",
      "4      1\n",
      "      ..\n",
      "207    1\n",
      "208    1\n",
      "209    1\n",
      "210    2\n",
      "211    1\n",
      "Name: level_risiko, Length: 212, dtype: int64\n"
     ]
    }
   ],
   "source": [
    "print(y)"
   ]
  },
  {
   "cell_type": "code",
   "execution_count": 7,
   "id": "381b2e43",
   "metadata": {},
   "outputs": [],
   "source": [
    "#Standarisasi data\n",
    "scaler = StandardScaler()"
   ]
  },
  {
   "cell_type": "code",
   "execution_count": 8,
   "id": "5a0d121e",
   "metadata": {},
   "outputs": [
    {
     "data": {
      "text/plain": [
       "StandardScaler()"
      ]
     },
     "execution_count": 8,
     "metadata": {},
     "output_type": "execute_result"
    }
   ],
   "source": [
    "scaler.fit(x)"
   ]
  },
  {
   "cell_type": "code",
   "execution_count": 9,
   "id": "ab2f649d",
   "metadata": {},
   "outputs": [],
   "source": [
    "standarized_data = scaler.transform(x)"
   ]
  },
  {
   "cell_type": "code",
   "execution_count": 10,
   "id": "d315b464",
   "metadata": {},
   "outputs": [
    {
     "name": "stdout",
     "output_type": "stream",
     "text": [
      "[[-2.03554998 -1.60370734  0.14970388 ... -1.04046264 -0.15541747\n",
      "  -0.19802951]\n",
      " [-0.1136804  -0.90840722  0.14970388 ... -1.04046264 -0.15541747\n",
      "  -0.19802951]\n",
      " [-0.69024127  0.07923499  1.09146125 ... -1.04046264 -0.15541747\n",
      "   5.04975247]\n",
      " ...\n",
      " [ 0.07850656  1.00366811  0.14970388 ... -0.11366399 -0.15541747\n",
      "  -0.19802951]\n",
      " [ 1.03944135 -0.03928207  1.09146125 ... -1.04046264 -0.15541747\n",
      "  -0.19802951]\n",
      " [ 0.27069352 -0.35532758 -1.73381085 ...  0.81313466 -0.15541747\n",
      "  -0.19802951]]\n"
     ]
    }
   ],
   "source": [
    "print(standarized_data)"
   ]
  },
  {
   "cell_type": "code",
   "execution_count": 11,
   "id": "7039f8f2",
   "metadata": {},
   "outputs": [],
   "source": [
    "#Masukan hasil standarisasi data ke variabel X\n",
    "X = standarized_data\n",
    "Y = df['level_risiko']"
   ]
  },
  {
   "cell_type": "code",
   "execution_count": 12,
   "id": "92371fd4",
   "metadata": {},
   "outputs": [
    {
     "name": "stdout",
     "output_type": "stream",
     "text": [
      "[[-2.03554998 -1.60370734  0.14970388 ... -1.04046264 -0.15541747\n",
      "  -0.19802951]\n",
      " [-0.1136804  -0.90840722  0.14970388 ... -1.04046264 -0.15541747\n",
      "  -0.19802951]\n",
      " [-0.69024127  0.07923499  1.09146125 ... -1.04046264 -0.15541747\n",
      "   5.04975247]\n",
      " ...\n",
      " [ 0.07850656  1.00366811  0.14970388 ... -0.11366399 -0.15541747\n",
      "  -0.19802951]\n",
      " [ 1.03944135 -0.03928207  1.09146125 ... -1.04046264 -0.15541747\n",
      "  -0.19802951]\n",
      " [ 0.27069352 -0.35532758 -1.73381085 ...  0.81313466 -0.15541747\n",
      "  -0.19802951]]\n"
     ]
    }
   ],
   "source": [
    "print(X)"
   ]
  },
  {
   "cell_type": "code",
   "execution_count": 13,
   "id": "726baa20",
   "metadata": {},
   "outputs": [
    {
     "name": "stdout",
     "output_type": "stream",
     "text": [
      "0      1\n",
      "1      1\n",
      "2      3\n",
      "3      1\n",
      "4      1\n",
      "      ..\n",
      "207    1\n",
      "208    1\n",
      "209    1\n",
      "210    2\n",
      "211    1\n",
      "Name: level_risiko, Length: 212, dtype: int64\n"
     ]
    }
   ],
   "source": [
    "print(Y)"
   ]
  },
  {
   "cell_type": "markdown",
   "id": "8d455225",
   "metadata": {},
   "source": [
    "## Membagi data training dan data testing"
   ]
  },
  {
   "cell_type": "code",
   "execution_count": 14,
   "id": "ae0d9fe4",
   "metadata": {},
   "outputs": [
    {
     "name": "stdout",
     "output_type": "stream",
     "text": [
      "(169, 8) (43, 8) (169,) (43,)\n"
     ]
    }
   ],
   "source": [
    "#Bagi menjadi data training 80% dan data testing 20%\n",
    "from sklearn.model_selection import train_test_split\n",
    "X_train, X_test, Y_train, Y_test = train_test_split(X, Y, test_size = 0.2, stratify=Y, random_state=2)\n",
    "print(X_train.shape, X_test.shape, Y_train.shape, Y_test.shape)"
   ]
  },
  {
   "cell_type": "markdown",
   "id": "a05b1e7a",
   "metadata": {},
   "source": [
    "## Uji Metode Machine Learning"
   ]
  },
  {
   "cell_type": "code",
   "execution_count": 15,
   "id": "5dfba18f",
   "metadata": {},
   "outputs": [],
   "source": [
    "#Import library untuk mengukur model dari tiap metode yang diuji\n",
    "from sklearn import metrics\n",
    "from sklearn.model_selection import KFold,cross_val_score,GridSearchCV\n",
    "from sklearn.metrics import f1_score, accuracy_score, confusion_matrix,classification_report,plot_confusion_matrix,plot_roc_curve,precision_score,roc_curve"
   ]
  },
  {
   "cell_type": "markdown",
   "id": "3ceda52a",
   "metadata": {},
   "source": [
    "### K-Nearest Neighbor"
   ]
  },
  {
   "cell_type": "code",
   "execution_count": 27,
   "id": "28badb67",
   "metadata": {},
   "outputs": [],
   "source": [
    "from sklearn.neighbors import KNeighborsClassifier "
   ]
  },
  {
   "cell_type": "code",
   "execution_count": 31,
   "id": "c745ecda",
   "metadata": {},
   "outputs": [
    {
     "name": "stdout",
     "output_type": "stream",
     "text": [
      "KNN\n",
      "Hasil score data training:  90.53254437869822\n",
      "Hasil score data testing:  86.04651162790698\n",
      " \n",
      "Confussion Matrix: \n",
      " [[33  5  0]\n",
      " [ 1  1  0]\n",
      " [ 0  0  3]]\n",
      "Accuracy :  0.85\n",
      "Precision:  0.16666666666666666\n",
      "Recall   :  0.5\n",
      "F1 score :  0.25\n",
      "Specificity :  0.868421052631579\n",
      "\n",
      "Classification Report: \n",
      "               precision    recall  f1-score   support\n",
      "\n",
      "           1       0.97      0.87      0.92        38\n",
      "           2       0.17      0.50      0.25         2\n",
      "           3       1.00      1.00      1.00         3\n",
      "\n",
      "    accuracy                           0.86        43\n",
      "   macro avg       0.71      0.79      0.72        43\n",
      "weighted avg       0.94      0.86      0.89        43\n",
      "\n",
      "\n"
     ]
    }
   ],
   "source": [
    "models = {'KNN': KNeighborsClassifier()}\n",
    "\n",
    "modelNames = ['KNN']\n",
    "\n",
    "trainScores = []\n",
    "accuracyScores = []\n",
    "testScores = []\n",
    "\n",
    "for m in models:\n",
    "    model = models[m]\n",
    "    model.fit(X_train, Y_train)\n",
    "    \n",
    "    print(m) \n",
    "    train_score = model.score(X_train, Y_train)\n",
    "    print('Hasil score data training: ', train_score*100)\n",
    "    trainScores.append(train_score*100)\n",
    "\n",
    "    test_score = model.score(X_test, Y_test)\n",
    "    print('Hasil score data testing: ', test_score*100)\n",
    "    testScores.append(test_score*100)\n",
    "    print(\" \")\n",
    "    \n",
    "    Y_predictions = model.predict(X_test)\n",
    "    conf_matrix = confusion_matrix(Y_predictions, Y_test)\n",
    "\n",
    "    print('Confussion Matrix: \\n', conf_matrix)\n",
    "\n",
    "    predictions = model.predict(X_test)\n",
    "    cm = confusion_matrix(predictions, Y_test)\n",
    "\n",
    "    tn = conf_matrix[0,0]\n",
    "    fp = conf_matrix[0,1]\n",
    "    tp = conf_matrix[1,1]\n",
    "    fn = conf_matrix[1,0]\n",
    "    accuracy2  = (tp + tn) / (tp + fp + tn + fn)\n",
    "    precision = tp / (tp + fp)\n",
    "    recall    = tp / (tp + fn)\n",
    "    f1score  = 2 * precision * recall / (precision + recall)\n",
    "    specificity = tn / (tn + fp)\n",
    "  \n",
    "    print('Accuracy : ', accuracy2)\n",
    "    print('Precision: ', precision)\n",
    "    print('Recall   : ', recall)\n",
    "    print('F1 score : ', f1score)\n",
    "    print('Specificity : ', specificity)\n",
    "    print(\"\") \n",
    "    print('Classification Report: \\n', classification_report(predictions, Y_test))\n",
    "    print(\"\")"
   ]
  },
  {
   "cell_type": "markdown",
   "id": "7425d236",
   "metadata": {},
   "source": [
    "### Decision Tree"
   ]
  },
  {
   "cell_type": "code",
   "execution_count": 16,
   "id": "3842fae9",
   "metadata": {},
   "outputs": [],
   "source": [
    "from sklearn.tree import DecisionTreeClassifier                         "
   ]
  },
  {
   "cell_type": "code",
   "execution_count": 17,
   "id": "a6068d47",
   "metadata": {},
   "outputs": [
    {
     "name": "stdout",
     "output_type": "stream",
     "text": [
      "Decision Tree\n",
      "Hasil score data training:  100.0\n",
      "Hasil score data testing:  95.34883720930233\n",
      " \n",
      "Confussion Matrix: \n",
      " [[33  1  0]\n",
      " [ 1  5  0]\n",
      " [ 0  0  3]]\n",
      "Accuracy :  0.95\n",
      "Precision:  0.8333333333333334\n",
      "Recall   :  0.8333333333333334\n",
      "F1 score :  0.8333333333333334\n",
      "Specificity :  0.9705882352941176\n",
      "\n",
      "Classification Report: \n",
      "               precision    recall  f1-score   support\n",
      "\n",
      "           1       0.97      0.97      0.97        34\n",
      "           2       0.83      0.83      0.83         6\n",
      "           3       1.00      1.00      1.00         3\n",
      "\n",
      "    accuracy                           0.95        43\n",
      "   macro avg       0.93      0.93      0.93        43\n",
      "weighted avg       0.95      0.95      0.95        43\n",
      "\n",
      "\n"
     ]
    }
   ],
   "source": [
    "models = {'Decision Tree': DecisionTreeClassifier (criterion='gini',random_state=42,max_depth=13)}\n",
    "\n",
    "modelNames = ['Decision Tree']\n",
    "\n",
    "trainScores = []\n",
    "accuracyScores = []\n",
    "testScores = []\n",
    "\n",
    "for m in models:\n",
    "    model = models[m]\n",
    "    model.fit(X_train, Y_train)\n",
    "    \n",
    "    print(m) \n",
    "    train_score = model.score(X_train, Y_train)\n",
    "    print('Hasil score data training: ', train_score*100)\n",
    "    trainScores.append(train_score*100)\n",
    "\n",
    "    test_score = model.score(X_test, Y_test)\n",
    "    print('Hasil score data testing: ', test_score*100)\n",
    "    testScores.append(test_score*100)\n",
    "    print(\" \")\n",
    "    \n",
    "    Y_predictions = model.predict(X_test)\n",
    "    conf_matrix = confusion_matrix(Y_predictions, Y_test)\n",
    "\n",
    "    print('Confussion Matrix: \\n', conf_matrix)\n",
    "\n",
    "    predictions = model.predict(X_test)\n",
    "    cm = confusion_matrix(predictions, Y_test)\n",
    "\n",
    "    tn = conf_matrix[0,0]\n",
    "    fp = conf_matrix[0,1]\n",
    "    tp = conf_matrix[1,1]\n",
    "    fn = conf_matrix[1,0]\n",
    "    accuracy2  = (tp + tn) / (tp + fp + tn + fn)\n",
    "    precision = tp / (tp + fp)\n",
    "    recall    = tp / (tp + fn)\n",
    "    f1score  = 2 * precision * recall / (precision + recall)\n",
    "    specificity = tn / (tn + fp)\n",
    "  \n",
    "    print('Accuracy : ', accuracy2)\n",
    "    print('Precision: ', precision)\n",
    "    print('Recall   : ', recall)\n",
    "    print('F1 score : ', f1score)\n",
    "    print('Specificity : ', specificity)\n",
    "    print(\"\") \n",
    "    print('Classification Report: \\n', classification_report(predictions, Y_test))\n",
    "    print(\"\")"
   ]
  },
  {
   "cell_type": "markdown",
   "id": "5fb61b4d",
   "metadata": {},
   "source": [
    "### Random Forest"
   ]
  },
  {
   "cell_type": "code",
   "execution_count": 33,
   "id": "4efedb91",
   "metadata": {},
   "outputs": [],
   "source": [
    "from sklearn.ensemble import RandomForestClassifier "
   ]
  },
  {
   "cell_type": "code",
   "execution_count": 36,
   "id": "a31ea4bf",
   "metadata": {},
   "outputs": [
    {
     "name": "stdout",
     "output_type": "stream",
     "text": [
      "Random Forest\n",
      "Hasil score data training:  100.0\n",
      "Hasil score data testing:  93.02325581395348\n",
      " \n",
      "Confussion Matrix: \n",
      " [[33  2  0]\n",
      " [ 1  4  0]\n",
      " [ 0  0  3]]\n",
      "Accuracy :  0.925\n",
      "Precision:  0.6666666666666666\n",
      "Recall   :  0.8\n",
      "F1 score :  0.7272727272727272\n",
      "Specificity :  0.9428571428571428\n",
      "\n",
      "Classification Report: \n",
      "               precision    recall  f1-score   support\n",
      "\n",
      "           1       0.97      0.94      0.96        35\n",
      "           2       0.67      0.80      0.73         5\n",
      "           3       1.00      1.00      1.00         3\n",
      "\n",
      "    accuracy                           0.93        43\n",
      "   macro avg       0.88      0.91      0.89        43\n",
      "weighted avg       0.94      0.93      0.93        43\n",
      "\n",
      "\n"
     ]
    }
   ],
   "source": [
    "models = {'Random Forest': RandomForestClassifier(criterion = 'entropy', random_state=42,\n",
    "                                                  n_estimators= 500, max_depth=13)\n",
    "         }\n",
    "\n",
    "modelNames = ['Random Forest']\n",
    "\n",
    "trainScores = []\n",
    "accuracyScores = []\n",
    "testScores = []\n",
    "\n",
    "for m in models:\n",
    "    model = models[m]\n",
    "    model.fit(X_train, Y_train)\n",
    "    \n",
    "    print(m) \n",
    "    train_score = model.score(X_train, Y_train)\n",
    "    print('Hasil score data training: ', train_score*100)\n",
    "    trainScores.append(train_score*100)\n",
    "\n",
    "    test_score = model.score(X_test, Y_test)\n",
    "    print('Hasil score data testing: ', test_score*100)\n",
    "    testScores.append(test_score*100)\n",
    "    print(\" \")\n",
    "    \n",
    "    Y_predictions = model.predict(X_test)\n",
    "    conf_matrix = confusion_matrix(Y_predictions, Y_test)\n",
    "\n",
    "    print('Confussion Matrix: \\n', conf_matrix)\n",
    "\n",
    "    predictions = model.predict(X_test)\n",
    "    cm = confusion_matrix(predictions, Y_test)\n",
    "\n",
    "    tn = conf_matrix[0,0]\n",
    "    fp = conf_matrix[0,1]\n",
    "    tp = conf_matrix[1,1]\n",
    "    fn = conf_matrix[1,0]\n",
    "    accuracy2  = (tp + tn) / (tp + fp + tn + fn)\n",
    "    precision = tp / (tp + fp)\n",
    "    recall    = tp / (tp + fn)\n",
    "    f1score  = 2 * precision * recall / (precision + recall)\n",
    "    specificity = tn / (tn + fp)\n",
    "  \n",
    "    print('Accuracy : ', accuracy2)\n",
    "    print('Precision: ', precision)\n",
    "    print('Recall   : ', recall)\n",
    "    print('F1 score : ', f1score)\n",
    "    print('Specificity : ', specificity)\n",
    "    print(\"\") \n",
    "    print('Classification Report: \\n', classification_report(predictions, Y_test))\n",
    "    print(\"\")"
   ]
  },
  {
   "cell_type": "markdown",
   "id": "c7b930b5",
   "metadata": {},
   "source": [
    "## Uji Coba Model Terbaik"
   ]
  },
  {
   "cell_type": "code",
   "execution_count": 19,
   "id": "78dcbc63",
   "metadata": {},
   "outputs": [
    {
     "data": {
      "text/plain": [
       "DecisionTreeClassifier(max_depth=13, random_state=42)"
      ]
     },
     "execution_count": 19,
     "metadata": {},
     "output_type": "execute_result"
    }
   ],
   "source": [
    "#Diketahui dari hasil diatas bahwa Decision Tree merupakan model terbaik\n",
    "tree = DecisionTreeClassifier(criterion='gini',random_state=42,max_depth=13)\n",
    "tree.fit(X_train, Y_train)"
   ]
  },
  {
   "cell_type": "code",
   "execution_count": 20,
   "id": "f5ebaaa1",
   "metadata": {},
   "outputs": [
    {
     "name": "stdout",
     "output_type": "stream",
     "text": [
      "Akurasi data training = 1.0\n"
     ]
    }
   ],
   "source": [
    "X_train_prediction = tree.predict(X_train)\n",
    "train_data_accuracy = accuracy_score(X_train_prediction, Y_train)\n",
    "print(\"Akurasi data training =\", train_data_accuracy)"
   ]
  },
  {
   "cell_type": "code",
   "execution_count": 21,
   "id": "70ca5779",
   "metadata": {},
   "outputs": [
    {
     "name": "stdout",
     "output_type": "stream",
     "text": [
      "Akurasi data testing = 0.9534883720930233\n"
     ]
    }
   ],
   "source": [
    "X_test_prediction = tree.predict(X_test)\n",
    "test_data_accuracy = accuracy_score(X_test_prediction, Y_test)\n",
    "print(\"Akurasi data testing =\", test_data_accuracy)"
   ]
  },
  {
   "cell_type": "code",
   "execution_count": 26,
   "id": "6ba5ea6f",
   "metadata": {},
   "outputs": [
    {
     "name": "stdout",
     "output_type": "stream",
     "text": [
      "[[-0.69024127  1.61995685  2.97497598  2.61625666 -1.56126945 -1.04046264\n",
      "   6.43428318 -0.19802951]]\n",
      "Anda memiliki resiko tinggi untuk terkena preeklamsia\n",
      "Predicted Values: [3]\n"
     ]
    }
   ],
   "source": [
    "#Uji coba menggunakan dataset\n",
    "input_data = (150, 80, 140, 90, 20, 0, 1, 0)\n",
    "input_data_as_numpy_array = np.array(input_data)\n",
    "\n",
    "input_data_reshape = input_data_as_numpy_array.reshape(1,-1)\n",
    "std_data = scaler.transform(input_data_reshape)\n",
    "print(std_data)\n",
    "\n",
    "prediction =  tree.predict(std_data)\n",
    "\n",
    "# ubah class hasil prediksi menjadi interger agar dapat dibaca oleh model\n",
    "predicted_class = int(prediction[0])\n",
    "\n",
    "if predicted_class == 1:\n",
    "    print('Anda memiliki resiko rendah untuk terkena preeklamsia')\n",
    "elif predicted_class == 2:\n",
    "    print('Anda memiliki resiko sedang untuk terkena preeklamsia')\n",
    "else:\n",
    "    print('Anda memiliki resiko tinggi untuk terkena preeklamsia')\n",
    "\n",
    "# Hasil level risiko yang diprediksi\n",
    "print('Predicted Values:', prediction)"
   ]
  },
  {
   "cell_type": "markdown",
   "id": "639b6e8c",
   "metadata": {},
   "source": [
    "## Simpan Model Terbaik"
   ]
  },
  {
   "cell_type": "code",
   "execution_count": 24,
   "id": "dc45c591",
   "metadata": {},
   "outputs": [],
   "source": [
    "import pickle #library untuk menyimpan model dalam bentuk SAV"
   ]
  },
  {
   "cell_type": "code",
   "execution_count": 25,
   "id": "7a85a93d",
   "metadata": {},
   "outputs": [],
   "source": [
    "filename = 'preeklamsia_model.sav'\n",
    "pickle.dump(tree, open(filename, 'wb'))"
   ]
  },
  {
   "cell_type": "code",
   "execution_count": null,
   "id": "dd147160",
   "metadata": {},
   "outputs": [],
   "source": []
  }
 ],
 "metadata": {
  "kernelspec": {
   "display_name": "Python 3 (ipykernel)",
   "language": "python",
   "name": "python3"
  },
  "language_info": {
   "codemirror_mode": {
    "name": "ipython",
    "version": 3
   },
   "file_extension": ".py",
   "mimetype": "text/x-python",
   "name": "python",
   "nbconvert_exporter": "python",
   "pygments_lexer": "ipython3",
   "version": "3.9.12"
  }
 },
 "nbformat": 4,
 "nbformat_minor": 5
}
